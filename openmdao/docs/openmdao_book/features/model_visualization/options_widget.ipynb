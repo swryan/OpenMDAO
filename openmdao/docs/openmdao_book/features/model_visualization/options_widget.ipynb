{
 "cells": [
  {
   "cell_type": "code",
   "execution_count": 1,
   "metadata": {
    "tags": [
     "remove-input",
     "active-ipynb",
     "remove-output"
    ]
   },
   "outputs": [],
   "source": [
    "try:\n",
    "    from openmdao.utils.notebook_utils import notebook_mode\n",
    "except ImportError:\n",
    "    !python -m pip install openmdao[notebooks]"
   ]
  },
  {
   "cell_type": "markdown",
   "metadata": {},
   "source": [
    "# Setting Options in Jupyter Notebook\n",
    "\n",
    "When working in a Jupyter notebook, you can quickly see and set options on the driver and systems in your model. \n",
    "\n",
    "Here we demonstrate the ability to interactively set the driver options for the [Sellar MDA](../../basic_user_guide/multidisciplinary_optimization/sellar_opt.ipynb) model from the\n",
    "Basic User Guide. "
   ]
  },
  {
   "cell_type": "code",
   "execution_count": 2,
   "metadata": {
    "scrolled": true
   },
   "outputs": [
    {
     "data": {
      "application/vnd.jupyter.widget-view+json": {
       "model_id": "025ee0572c6f4387b420558bb2700be9",
       "version_major": 2,
       "version_minor": 0
      },
      "text/plain": [
       "GridBox(children=(Dropdown(description='disp', options=(True, False), style=DescriptionStyle(description_width…"
      ]
     },
     "metadata": {},
     "output_type": "display_data"
    },
    {
     "data": {
      "application/vnd.jupyter.widget-view+json": {
       "model_id": "4e8772b3bcee46eb827eb500dd479a13",
       "version_major": 2,
       "version_minor": 0
      },
      "text/plain": [
       "Output()"
      ]
     },
     "metadata": {},
     "output_type": "display_data"
    },
    {
     "data": {
      "text/plain": []
     },
     "execution_count": 2,
     "metadata": {},
     "output_type": "execute_result"
    }
   ],
   "source": [
    "import openmdao.api as om\n",
    "from openmdao.test_suite.components.sellar_feature import SellarMDA\n",
    "\n",
    "import numpy as np\n",
    "\n",
    "# define Sellar MDA problem\n",
    "prob = om.Problem(model=SellarMDA())\n",
    "\n",
    "# set driver and show driver options\n",
    "prob.driver = om.ScipyOptimizeDriver()\n",
    "\n",
    "# add objective, design vars and constraints\n",
    "model = prob.model\n",
    "model.add_objective('obj')\n",
    "\n",
    "model.add_design_var('z', lower=np.array([-10.0, 0.0]),\n",
    "                          upper=np.array([10.0, 10.0]))\n",
    "model.add_design_var('x', lower=0.0, upper=10.0)\n",
    "\n",
    "model.add_constraint('con1', upper=0.0)\n",
    "model.add_constraint('con2', upper=0.0)\n",
    "\n",
    "prob.driver.options['debug_print'] = ['desvars', 'objs']\n",
    "prob.driver.options\n"
   ]
  },
  {
   "cell_type": "markdown",
   "metadata": {},
   "source": [
    "Try changing some of the options above and then seeing how the options have changed by running the cell below:"
   ]
  },
  {
   "cell_type": "code",
   "execution_count": 3,
   "metadata": {
    "scrolled": true
   },
   "outputs": [
    {
     "name": "stdout",
     "output_type": "stream",
     "text": [
      "[('debug_print', ['desvars', 'objs']),\n",
      " ('optimizer', 'SLSQP'),\n",
      " ('tol', 1e-06),\n",
      " ('maxiter', 200),\n",
      " ('disp', True),\n",
      " ('singular_jac_behavior', 'warn'),\n",
      " ('singular_jac_tol', 1e-16)]\n"
     ]
    }
   ],
   "source": [
    "from pprint import pprint\n",
    "pprint(list(prob.driver.options.items()))"
   ]
  },
  {
   "cell_type": "markdown",
   "metadata": {},
   "source": [
    "Similarly, we can set recording options:"
   ]
  },
  {
   "cell_type": "code",
   "execution_count": 4,
   "metadata": {
    "scrolled": true
   },
   "outputs": [
    {
     "data": {
      "application/vnd.jupyter.widget-view+json": {
       "model_id": "4249214389c84773801124d1af108d0e",
       "version_major": 2,
       "version_minor": 0
      },
      "text/plain": [
       "GridBox(children=(Dropdown(description='record_constraints', options=(True, False), style=DescriptionStyle(des…"
      ]
     },
     "metadata": {},
     "output_type": "display_data"
    },
    {
     "data": {
      "application/vnd.jupyter.widget-view+json": {
       "model_id": "85636bb55b354d6d9970f43b45869bf1",
       "version_major": 2,
       "version_minor": 0
      },
      "text/plain": [
       "Output()"
      ]
     },
     "metadata": {},
     "output_type": "display_data"
    },
    {
     "data": {
      "text/plain": []
     },
     "execution_count": 4,
     "metadata": {},
     "output_type": "execute_result"
    }
   ],
   "source": [
    "prob.driver.recording_options"
   ]
  },
  {
   "cell_type": "code",
   "execution_count": 5,
   "metadata": {},
   "outputs": [
    {
     "name": "stdout",
     "output_type": "stream",
     "text": [
      "[('record_model_metadata', True),\n",
      " ('record_desvars', True),\n",
      " ('record_responses', False),\n",
      " ('record_objectives', True),\n",
      " ('record_constraints', True),\n",
      " ('includes', []),\n",
      " ('excludes', []),\n",
      " ('record_derivatives', False),\n",
      " ('record_inputs', True),\n",
      " ('record_outputs', True),\n",
      " ('record_residuals', False)]\n"
     ]
    }
   ],
   "source": [
    "pprint(list(prob.driver.recording_options.items()))"
   ]
  },
  {
   "cell_type": "code",
   "execution_count": 6,
   "metadata": {
    "scrolled": true
   },
   "outputs": [
    {
     "name": "stdout",
     "output_type": "stream",
     "text": [
      "Driver debug print for iter coord: rank0:ScipyOptimize_SLSQP|0\n",
      "--------------------------------------------------------------\n",
      "Design Vars\n",
      "{'x': array([1.]), 'z': array([5., 2.])}\n",
      "\n",
      "\n",
      "=====\n",
      "cycle\n",
      "=====\n",
      "NL: NLBGS Converged in 8 iterations\n",
      "Objectives\n",
      "{'obj_cmp.obj': array([28.58830817])}\n",
      "\n",
      "Driver debug print for iter coord: rank0:ScipyOptimize_SLSQP|1\n",
      "--------------------------------------------------------------\n",
      "Design Vars\n",
      "{'x': array([1.]), 'z': array([5., 2.])}\n",
      "\n",
      "\n",
      "=====\n",
      "cycle\n",
      "=====\n",
      "NL: NLBGS Converged in 1 iterations\n",
      "Objectives\n",
      "{'obj_cmp.obj': array([28.58830817])}\n",
      "\n",
      "Driver debug print for iter coord: rank0:ScipyOptimize_SLSQP|2\n",
      "--------------------------------------------------------------\n",
      "Design Vars\n",
      "{'x': array([0.]), 'z': array([2.97739435, 0.79774515])}\n",
      "\n",
      "\n",
      "=====\n",
      "cycle\n",
      "=====\n",
      "NL: NLBGS Converged in 9 iterations\n",
      "Objectives\n",
      "{'obj_cmp.obj': array([9.12937206])}\n",
      "\n",
      "Driver debug print for iter coord: rank0:ScipyOptimize_SLSQP|3\n",
      "--------------------------------------------------------------\n",
      "Design Vars\n",
      "{'x': array([1.24381997e-14]), 'z': array([2.24311210e+00, 4.48974191e-13])}\n",
      "\n",
      "\n",
      "=====\n",
      "cycle\n",
      "=====\n",
      "NL: NLBGS Converged in 9 iterations\n",
      "Objectives\n",
      "{'obj_cmp.obj': array([4.18806381])}\n",
      "\n",
      "Driver debug print for iter coord: rank0:ScipyOptimize_SLSQP|4\n",
      "--------------------------------------------------------------\n",
      "Design Vars\n",
      "{'x': array([0.0014523]), 'z': array([2.01671202e+00, 6.16526663e-13])}\n",
      "\n",
      "\n",
      "=====\n",
      "cycle\n",
      "=====\n",
      "NL: NLBGS Converged in 10 iterations\n",
      "Objectives\n",
      "{'obj_cmp.obj': array([3.32344841])}\n",
      "\n",
      "Driver debug print for iter coord: rank0:ScipyOptimize_SLSQP|5\n",
      "--------------------------------------------------------------\n",
      "Design Vars\n",
      "{'x': array([0.]), 'z': array([1.98191105, 0.        ])}\n",
      "\n",
      "\n",
      "=====\n",
      "cycle\n",
      "=====\n",
      "NL: NLBGS Converged in 9 iterations\n",
      "Objectives\n",
      "{'obj_cmp.obj': array([3.19840191])}\n",
      "\n",
      "Driver debug print for iter coord: rank0:ScipyOptimize_SLSQP|6\n",
      "--------------------------------------------------------------\n",
      "Design Vars\n",
      "{'x': array([0.]), 'z': array([1.97807463e+00, 1.56769835e-15])}\n",
      "\n",
      "\n",
      "=====\n",
      "cycle\n",
      "=====\n",
      "NL: NLBGS Converged in 8 iterations\n",
      "Objectives\n",
      "{'obj_cmp.obj': array([3.18492296])}\n",
      "\n",
      "Driver debug print for iter coord: rank0:ScipyOptimize_SLSQP|7\n",
      "--------------------------------------------------------------\n",
      "Design Vars\n",
      "{'x': array([0.]), 'z': array([1.97768298e+00, 1.27517757e-14])}\n",
      "\n",
      "\n",
      "=====\n",
      "cycle\n",
      "=====\n",
      "NL: NLBGS Converged in 7 iterations\n",
      "Objectives\n",
      "{'obj_cmp.obj': array([3.18354868])}\n",
      "\n",
      "Driver debug print for iter coord: rank0:ScipyOptimize_SLSQP|8\n",
      "--------------------------------------------------------------\n",
      "Design Vars\n",
      "{'x': array([3.24738796e-15]), 'z': array([1.97764334e+00, 1.02233532e-14])}\n",
      "\n",
      "\n",
      "=====\n",
      "cycle\n",
      "=====\n",
      "NL: NLBGS Converged in 7 iterations\n",
      "Objectives\n",
      "{'obj_cmp.obj': array([3.1834096])}\n",
      "\n",
      "Driver debug print for iter coord: rank0:ScipyOptimize_SLSQP|9\n",
      "--------------------------------------------------------------\n",
      "Design Vars\n",
      "{'x': array([0.]), 'z': array([1.97763933, 0.        ])}\n",
      "\n",
      "\n",
      "=====\n",
      "cycle\n",
      "=====\n",
      "NL: NLBGS Converged in 6 iterations\n",
      "Objectives\n",
      "{'obj_cmp.obj': array([3.18339553])}\n",
      "\n",
      "Driver debug print for iter coord: rank0:ScipyOptimize_SLSQP|10\n",
      "---------------------------------------------------------------\n",
      "Design Vars\n",
      "{'x': array([0.]), 'z': array([1.97763893, 0.        ])}\n",
      "\n",
      "\n",
      "=====\n",
      "cycle\n",
      "=====\n",
      "NL: NLBGS Converged in 5 iterations\n",
      "Objectives\n",
      "{'obj_cmp.obj': array([3.18339411])}\n",
      "\n",
      "Optimization terminated successfully    (Exit mode 0)\n",
      "            Current function value: [3.18339411]\n",
      "            Iterations: 9\n",
      "            Function evaluations: 10\n",
      "            Gradient evaluations: 9\n",
      "Optimization Complete\n",
      "-----------------------------------\n"
     ]
    },
    {
     "data": {
      "text/plain": [
       "False"
      ]
     },
     "execution_count": 6,
     "metadata": {},
     "output_type": "execute_result"
    }
   ],
   "source": [
    "# run the optimization\n",
    "prob.setup()\n",
    "prob.run_driver()"
   ]
  },
  {
   "cell_type": "markdown",
   "metadata": {},
   "source": [
    "Note that options that are not editable, such as the `guess_func` function reference for a BalanceComp, will be shown but disabled:"
   ]
  },
  {
   "cell_type": "code",
   "execution_count": 7,
   "metadata": {},
   "outputs": [
    {
     "data": {
      "application/vnd.jupyter.widget-view+json": {
       "model_id": "2323a306e754485c9c7502ca93a937eb",
       "version_major": 2,
       "version_minor": 0
      },
      "text/plain": [
       "GridBox(children=(Dropdown(description='assembled_jac_type', options=('csc', 'dense'), style=DescriptionStyle(…"
      ]
     },
     "metadata": {},
     "output_type": "display_data"
    },
    {
     "data": {
      "application/vnd.jupyter.widget-view+json": {
       "model_id": "fa70462a1376400dab64e3125815fba6",
       "version_major": 2,
       "version_minor": 0
      },
      "text/plain": [
       "Output()"
      ]
     },
     "metadata": {},
     "output_type": "display_data"
    },
    {
     "data": {
      "text/plain": []
     },
     "execution_count": 7,
     "metadata": {},
     "output_type": "execute_result"
    }
   ],
   "source": [
    "def guess_function(inputs, outputs, residuals):\n",
    "    outputs['x'] = np.sqrt(inputs['rhs:x'])\n",
    "\n",
    "bal = om.BalanceComp('x', guess_func=guess_function)\n",
    "bal.options"
   ]
  }
 ],
 "metadata": {
  "celltoolbar": "Tags",
  "kernelspec": {
   "display_name": "Python 3",
   "language": "python",
   "name": "python3"
  },
  "language_info": {
   "codemirror_mode": {
    "name": "ipython",
    "version": 3
   },
   "file_extension": ".py",
   "mimetype": "text/x-python",
   "name": "python",
   "nbconvert_exporter": "python",
   "pygments_lexer": "ipython3",
   "version": "3.9.4"
  },
  "orphan": true,
  "widgets": {
   "application/vnd.jupyter.widget-state+json": {
    "state": {},
    "version_major": 2,
    "version_minor": 0
   }
  }
 },
 "nbformat": 4,
 "nbformat_minor": 4
}
