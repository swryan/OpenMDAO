{
 "cells": [
  {
   "cell_type": "code",
   "execution_count": 1,
   "metadata": {
    "tags": [
     "remove-input",
     "active-ipynb",
     "remove-output"
    ]
   },
   "outputs": [],
   "source": [
    "try:\n",
    "    from openmdao.utils.notebook_utils import notebook_mode\n",
    "except ImportError:\n",
    "    !python -m pip install openmdao[notebooks]"
   ]
  },
  {
   "cell_type": "markdown",
   "metadata": {},
   "source": [
    "# Inspecting Case Data\n",
    "\n",
    "## CasesWidget\n",
    "\n",
    "When working in a Jupyter notebook, you can quickly get a plot of the data you have recorded from your analysis using a `CasesWidget`.  See the following example."
   ]
  },
  {
   "cell_type": "code",
   "execution_count": 2,
   "metadata": {
    "scrolled": true
   },
   "outputs": [
    {
     "name": "stdout",
     "output_type": "stream",
     "text": [
      "Model viewer data has already has already been recorded for Driver.\n",
      "Optimization terminated successfully    (Exit mode 0)\n",
      "            Current function value: [-27.33333333]\n",
      "            Iterations: 5\n",
      "            Function evaluations: 6\n",
      "            Gradient evaluations: 5\n",
      "Optimization Complete\n",
      "-----------------------------------\n"
     ]
    },
    {
     "name": "stderr",
     "output_type": "stream",
     "text": [
      "/home/swryan/dev/OpenMDAO/openmdao/recorders/sqlite_recorder.py:223: UserWarning:The existing case recorder file, cases.sql, is being overwritten.\n"
     ]
    }
   ],
   "source": [
    "import openmdao.api as om\n",
    "\n",
    "recorder = om.SqliteRecorder(\"cases.sql\")\n",
    "\n",
    "prob = om.Problem()\n",
    "\n",
    "prob.model.add_subsystem('paraboloid', om.ExecComp('f = (x-3)**2 + x*y + (y+4)**2 - 3'))\n",
    "\n",
    "prob.driver = om.ScipyOptimizeDriver()\n",
    "prob.driver.options['optimizer'] = 'SLSQP'\n",
    "\n",
    "prob.model.add_design_var('paraboloid.x', lower=-50, upper=50)\n",
    "prob.model.add_design_var('paraboloid.y', lower=-50, upper=50)\n",
    "prob.model.add_objective('paraboloid.f')\n",
    "\n",
    "prob.driver.add_recorder(recorder)\n",
    "prob.add_recorder(recorder)\n",
    "\n",
    "prob.driver.recording_options['record_objectives'] = True\n",
    "prob.driver.recording_options['record_constraints'] = True\n",
    "prob.driver.recording_options['record_desvars'] = True\n",
    "\n",
    "prob.setup()\n",
    "\n",
    "prob.set_val('paraboloid.x', 3.0)\n",
    "prob.set_val('paraboloid.y', -4.0)\n",
    "\n",
    "prob.run_model()\n",
    "prob.record(\"initial\")\n",
    "prob.run_driver()\n",
    "prob.record(\"final\")"
   ]
  },
  {
   "cell_type": "markdown",
   "metadata": {},
   "source": [
    "Having recorded our driver iterations and final problem state into the file \"cases.sql\", we can now instantiate a `CasesWidget` to quickly and easily generate plots of our output variables across iterations.\n",
    "\n",
    "Using the `Source` selector we can choose to inspect either the cases recorded by the driver or the cases recorded by the problem.  Having chosen the source, we can then select the range of `Cases` to inspect and then finally the `Output` variable to plot."
   ]
  },
  {
   "cell_type": "code",
   "execution_count": 4,
   "metadata": {},
   "outputs": [
    {
     "data": {
      "application/vnd.jupyter.widget-view+json": {
       "model_id": "b5d8657d94574a29b752acf99b15feed",
       "version_major": 2,
       "version_minor": 0
      },
      "text/plain": [
       "interactive(children=(Dropdown(description='Source:', options=('driver', 'problem'), value='driver'), IntRange…"
      ]
     },
     "metadata": {},
     "output_type": "display_data"
    }
   ],
   "source": [
    "om.CasesWidget(\"cases.sql\");"
   ]
  }
 ],
 "metadata": {
  "celltoolbar": "Tags",
  "kernelspec": {
   "display_name": "Python 3",
   "language": "python",
   "name": "python3"
  },
  "language_info": {
   "codemirror_mode": {
    "name": "ipython",
    "version": 3
   },
   "file_extension": ".py",
   "mimetype": "text/x-python",
   "name": "python",
   "nbconvert_exporter": "python",
   "pygments_lexer": "ipython3",
   "version": "3.9.4"
  },
  "orphan": true
 },
 "nbformat": 4,
 "nbformat_minor": 4
}
