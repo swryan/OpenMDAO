{
 "cells": [
  {
   "cell_type": "markdown",
   "metadata": {},
   "source": [
    "# Model Visualization\n",
    "\n",
    "- [Basics of Creating N2 Model Visualizations](n2_basics/n2_basics.ipynb)\n",
    "- [Details of the N2 Model Visualizations](n2_details/n2_details.ipynb)\n",
    "- [Metamodel Visualization](meta_model_basics.ipynb)\n",
    "- [View Connections of a Model](view_connections.ipynb)\n",
    "- [View Driver Scaling Information](view_scaling_report.ipynb)\n",
    "- [Generate Plots of Recorded Case Data](cases_widget.ipynb)"
   ]
  }
 ],
 "metadata": {
  "celltoolbar": "Tags",
  "kernelspec": {
   "display_name": "Python 3",
   "language": "python",
   "name": "python3"
  },
  "language_info": {
   "codemirror_mode": {
    "name": "ipython",
    "version": 3
   },
   "file_extension": ".py",
   "mimetype": "text/x-python",
   "name": "python",
   "nbconvert_exporter": "python",
   "pygments_lexer": "ipython3",
   "version": "3.9.4"
  },
  "orphan": true
 },
 "nbformat": 4,
 "nbformat_minor": 4
}
